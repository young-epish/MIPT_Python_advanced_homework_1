{
 "cells": [
  {
   "cell_type": "code",
   "execution_count": 1,
   "metadata": {},
   "outputs": [
    {
     "name": "stdout",
     "output_type": "stream",
     "text": [
      "Note: you may need to restart the kernel to use updated packages.\n"
     ]
    }
   ],
   "source": [
    "%pip install -q -U kaggle_environments"
   ]
  },
  {
   "cell_type": "code",
   "execution_count": 1,
   "metadata": {},
   "outputs": [],
   "source": [
    "import numpy as np\n",
    "import pandas as pd\n",
    "import random\n",
    "\n",
    "import matplotlib.pyplot as plt\n",
    "import seaborn as sns\n",
    "\n",
    "from kaggle_environments import make, evaluate"
   ]
  },
  {
   "cell_type": "markdown",
   "metadata": {},
   "source": [
    "1 Опишем поведение агента, всегда играющего 'камень' - это значение 0"
   ]
  },
  {
   "cell_type": "code",
   "execution_count": 2,
   "metadata": {},
   "outputs": [
    {
     "name": "stdout",
     "output_type": "stream",
     "text": [
      "Overwriting rock_agent.py\n"
     ]
    }
   ],
   "source": [
    "%%writefile rock_agent.py\n",
    "\n",
    "# Example of the simple agent\n",
    "#0 - rock\n",
    "#1 - paper\n",
    "#2 - scissors\n",
    "def only_rock(observation, configuration):\n",
    "    return 0"
   ]
  },
  {
   "cell_type": "markdown",
   "metadata": {},
   "source": [
    "2 Опишем поведение агента, всегда играющего 'бумага' - это значение 1"
   ]
  },
  {
   "cell_type": "code",
   "execution_count": 3,
   "metadata": {},
   "outputs": [
    {
     "name": "stdout",
     "output_type": "stream",
     "text": [
      "Overwriting paper_agent.py\n"
     ]
    }
   ],
   "source": [
    "%%writefile paper_agent.py\n",
    "\n",
    "def only_paper(observation, configuration):\n",
    "    return 1"
   ]
  },
  {
   "cell_type": "markdown",
   "metadata": {},
   "source": [
    "3 Опишем поведение агента, всегда играющего 'ножницы' - это значение 2"
   ]
  },
  {
   "cell_type": "code",
   "execution_count": 4,
   "metadata": {},
   "outputs": [
    {
     "name": "stdout",
     "output_type": "stream",
     "text": [
      "Overwriting scissors_agent.py\n"
     ]
    }
   ],
   "source": [
    "%%writefile scissors_agent.py\n",
    "\n",
    "def only_scissors(observation, configuration):\n",
    "    return 2"
   ]
  },
  {
   "cell_type": "markdown",
   "metadata": {},
   "source": [
    "4 Попробуем теперь использовать информацию о прошлых действиях противника. Опишем агента, который производит то же самое действие, что и оппонент на прошлом ходу"
   ]
  },
  {
   "cell_type": "code",
   "execution_count": 5,
   "metadata": {},
   "outputs": [
    {
     "name": "stdout",
     "output_type": "stream",
     "text": [
      "Overwriting copy_opponent.py\n"
     ]
    }
   ],
   "source": [
    "%%writefile copy_opponent.py\n",
    "import random\n",
    "\n",
    "# Example\n",
    "def copy_opponent(observation, configuration):\n",
    "    # In case we have information about opponent last move\n",
    "    if observation.step > 0:\n",
    "        return observation.lastOpponentAction\n",
    "    # Initial step\n",
    "    else:\n",
    "        return random.randint(0, 2)"
   ]
  },
  {
   "cell_type": "markdown",
   "metadata": {},
   "source": [
    "5 Опишем агента, который всегда производит победное действие над прошлым ходом оппонента."
   ]
  },
  {
   "cell_type": "code",
   "execution_count": 6,
   "metadata": {},
   "outputs": [
    {
     "name": "stdout",
     "output_type": "stream",
     "text": [
      "Overwriting late_champion.py\n"
     ]
    }
   ],
   "source": [
    "%%writefile late_champion.py\n",
    "import random\n",
    "\n",
    "# Example\n",
    "def late_champion(observation, configuration):\n",
    "    # In case we have information about opponent last move\n",
    "    if observation.step > 0:\n",
    "        a = observation.lastOpponentAction\n",
    "        if a == 2:\n",
    "            return a - 2\n",
    "        else:\n",
    "            return a + 1\n",
    "    # Initial step\n",
    "    else:\n",
    "        return random.randint(0, 2)"
   ]
  },
  {
   "cell_type": "markdown",
   "metadata": {},
   "source": [
    "6 Опишем агента, который всегда делает случайный ход"
   ]
  },
  {
   "cell_type": "code",
   "execution_count": 7,
   "metadata": {},
   "outputs": [
    {
     "name": "stdout",
     "output_type": "stream",
     "text": [
      "Overwriting random_action.py\n"
     ]
    }
   ],
   "source": [
    "%%writefile random_action.py\n",
    "import random\n",
    "\n",
    "def random_action(observation, configuration):\n",
    "        return random.randint(0, 2)"
   ]
  },
  {
   "cell_type": "markdown",
   "metadata": {},
   "source": [
    "7 Опишем агента, который всегда выбирает \"камень\" или \"бумагу\"."
   ]
  },
  {
   "cell_type": "code",
   "execution_count": 8,
   "metadata": {},
   "outputs": [
    {
     "name": "stdout",
     "output_type": "stream",
     "text": [
      "Overwriting rock_or_paper.py\n"
     ]
    }
   ],
   "source": [
    "%%writefile rock_or_paper.py\n",
    "import random\n",
    "\n",
    "def rock_or_paper(observation, configuration):\n",
    "    return random.choice([0, 1])"
   ]
  },
  {
   "cell_type": "markdown",
   "metadata": {},
   "source": [
    "8 Опишем агента, который всегда выбирает \"камень\" или \"ножницы\"."
   ]
  },
  {
   "cell_type": "code",
   "execution_count": 9,
   "metadata": {},
   "outputs": [
    {
     "name": "stdout",
     "output_type": "stream",
     "text": [
      "Overwriting rock_or_scissors.py\n"
     ]
    }
   ],
   "source": [
    "%%writefile rock_or_scissors.py\n",
    "import random\n",
    "\n",
    "def rock_or_scissors(observation, configuration):\n",
    "    return random.choice([0, 2])"
   ]
  },
  {
   "cell_type": "markdown",
   "metadata": {},
   "source": [
    "9 Опишем агента, который всегда выбирает \"бумагу\" или \"ножницы\"."
   ]
  },
  {
   "cell_type": "code",
   "execution_count": 11,
   "metadata": {},
   "outputs": [
    {
     "name": "stdout",
     "output_type": "stream",
     "text": [
      "Overwriting paper_or_scissors.py\n"
     ]
    }
   ],
   "source": [
    "%%writefile paper_or_scissors.py\n",
    "import random\n",
    "\n",
    "def paper_or_scissors(observation, configuration):\n",
    "    return random.choice([1, 2])"
   ]
  },
  {
   "cell_type": "markdown",
   "metadata": {},
   "source": [
    "10 Опишем агента, который выбирает победный (или беспроигрышный) вариант над самым редким ходом противника."
   ]
  },
  {
   "cell_type": "code",
   "execution_count": 53,
   "metadata": {},
   "outputs": [
    {
     "name": "stdout",
     "output_type": "stream",
     "text": [
      "Overwriting champion_of_rare.py\n"
     ]
    }
   ],
   "source": [
    "%%writefile champion_of_rare.py\n",
    "import random\n",
    "\n",
    "rock = 0\n",
    "paper = 0\n",
    "scissors = 0\n",
    "\n",
    "def champion_of_rare(observation, configuration):\n",
    "    global rock, paper, scissors\n",
    "    if observation.step > 0:\n",
    "        if observation.lastOpponentAction == 0:\n",
    "            rock += 1\n",
    "        elif observation.lastOpponentAction == 1:\n",
    "            paper += 1\n",
    "        else:\n",
    "            scissors += 1\n",
    "        if (rock < paper) and (rock < scissors):\n",
    "            return 1\n",
    "        elif (paper < scissors) and (paper < rock):\n",
    "            return 2\n",
    "        elif (scissors < rock) and (scissors < paper):\n",
    "            return 0            \n",
    "        elif (rock == paper) and (rock < scissors):\n",
    "            return 1\n",
    "        elif (rock == scissors) and (rock < paper):\n",
    "            return 0\n",
    "        elif (paper == scissors) and (paper < rock):\n",
    "            return 2\n",
    "    return random.randint(0, 2)"
   ]
  },
  {
   "cell_type": "markdown",
   "metadata": {},
   "source": [
    "11 Опишем агента, который выбирает победный (или беспроигрышный) вариант над самым частым ходом противника."
   ]
  },
  {
   "cell_type": "code",
   "execution_count": 82,
   "metadata": {},
   "outputs": [
    {
     "name": "stdout",
     "output_type": "stream",
     "text": [
      "Writing champion_of_freq.py\n"
     ]
    }
   ],
   "source": [
    "%%writefile champion_of_freq.py\n",
    "import random\n",
    "\n",
    "rock = 0\n",
    "paper = 0\n",
    "scissors = 0\n",
    "\n",
    "def champion_of_freq(observation, configuration):\n",
    "    global rock, paper, scissors\n",
    "    if observation.step > 0:\n",
    "        if observation.lastOpponentAction == 0:\n",
    "            rock += 1\n",
    "        elif observation.lastOpponentAction == 1:\n",
    "            paper += 1\n",
    "        else:\n",
    "            scissors += 1\n",
    "        if (rock > paper) and (rock > scissors):\n",
    "            return 1\n",
    "        elif (paper > scissors) and (paper > rock):\n",
    "            return 2\n",
    "        elif (scissors > rock) and (scissors > paper):\n",
    "            return 0            \n",
    "        elif (rock == paper) and (rock > scissors):\n",
    "            return 1\n",
    "        elif (rock == scissors) and (rock > paper):\n",
    "            return 0\n",
    "        elif (paper == scissors) and (paper > rock):\n",
    "            return 2\n",
    "    return random.randint(0, 2)"
   ]
  },
  {
   "cell_type": "markdown",
   "metadata": {},
   "source": [
    "12 Опишем агента, который выбирает действие по очереди."
   ]
  },
  {
   "cell_type": "code",
   "execution_count": 182,
   "metadata": {},
   "outputs": [
    {
     "name": "stdout",
     "output_type": "stream",
     "text": [
      "Writing agent_line.py\n"
     ]
    }
   ],
   "source": [
    "%%writefile agent_line.py\n",
    "\n",
    "list_now = [1, 2, 3]\n",
    "\n",
    "def agent_queue(observation, configuration):\n",
    "    global list_now\n",
    "    if list_now == [0, ]:\n",
    "        list_now.append(1)\n",
    "        return 1\n",
    "    elif list_now == [0, 1]:\n",
    "        list_now.append(2)\n",
    "        return 2\n",
    "    list_now = [0]\n",
    "    return 0"
   ]
  },
  {
   "cell_type": "markdown",
   "metadata": {},
   "source": [
    "Воспользуемся функцией evaluate из библиотеки kaggle_environments с помощью которой запустим наших агентов и проведем эксперимент на заданном количестве игр"
   ]
  },
  {
   "cell_type": "code",
   "execution_count": 123,
   "metadata": {},
   "outputs": [
    {
     "data": {
      "text/plain": [
       "[[98.0, -98.0]]"
      ]
     },
     "execution_count": 123,
     "metadata": {},
     "output_type": "execute_result"
    }
   ],
   "source": [
    "evaluate(\n",
    "    'rps', # Environment to use - no need to change\n",
    "    ['champion_of_freq.py', 'rock_agent.py'], # Agents to evaluate\n",
    "    configuration={'episodeSteps': 100, 'tieRewardThreshold': 1} # Number of episodes\n",
    ")"
   ]
  },
  {
   "cell_type": "code",
   "execution_count": 37,
   "metadata": {},
   "outputs": [
    {
     "data": {
      "text/plain": [
       "[[2.0, -2.0]]"
      ]
     },
     "execution_count": 37,
     "metadata": {},
     "output_type": "execute_result"
    }
   ],
   "source": [
    "evaluate(\n",
    "    'rps', # Environment to use - no need to change\n",
    "    ['late_champion.py', 'random_action.py'], # Agents to evaluate\n",
    "    configuration={'episodeSteps': 100, 'tieRewardThreshold': 1} # Number of episodes\n",
    ")"
   ]
  },
  {
   "cell_type": "code",
   "execution_count": 155,
   "metadata": {},
   "outputs": [
    {
     "data": {
      "text/plain": [
       "[[0, 0]]"
      ]
     },
     "execution_count": 155,
     "metadata": {},
     "output_type": "execute_result"
    }
   ],
   "source": [
    "evaluate(\n",
    "    'rps', # Environment to use - no need to change\n",
    "    ['scissors_agent.py', 'agent_queue'], # Agents to evaluate\n",
    "    configuration={'episodeSteps': 13, \"tieRewardThreshold\": 1} # Number of episodes\n",
    ")"
   ]
  },
  {
   "cell_type": "code",
   "execution_count": 65,
   "metadata": {},
   "outputs": [
    {
     "data": {
      "text/plain": [
       "[[0, 0]]"
      ]
     },
     "execution_count": 65,
     "metadata": {},
     "output_type": "execute_result"
    }
   ],
   "source": [
    "evaluate(\n",
    "    'rps', # Environment to use - no need to change\n",
    "    ['paper_or_scissors.py', 'random_action.py'], # Agents to evaluate\n",
    "    configuration={'episodeSteps': 50, \"tieRewardThreshold\": 10} # Number of episodes\n",
    ")"
   ]
  },
  {
   "cell_type": "markdown",
   "metadata": {},
   "source": [
    "### ТУРНИР\n",
    "\n",
    "Команды играют в 2 круга. В каждой встрече 100 раундов. За победу агент получает 3 очка, за ничью - 1. Победителем турнира является тот, у кого больше очков."
   ]
  },
  {
   "cell_type": "code",
   "execution_count": 189,
   "metadata": {},
   "outputs": [
    {
     "name": "stdout",
     "output_type": "stream",
     "text": [
      "{'rock_agent': 32, 'paper_agent': 32, 'scissors_agent': 29, 'copy_opponent': 22, 'late_champion': 53, 'random_action': 30, 'rock_or_paper': 33, 'rock_or_scissors': 29, 'paper_or_scissors': 26, 'champion_of_rare': 15, 'champion_of_freq': 51, 'agent_line': 33}\n"
     ]
    }
   ],
   "source": [
    "agents_dict= {\n",
    "    'rock_agent': 'rock_agent.py',\n",
    "    'paper_agent': 'paper_agent.py',\n",
    "    'scissors_agent': 'scissors_agent.py',\n",
    "    'copy_opponent': 'copy_opponent.py',\n",
    "    'late_champion': 'late_champion.py',\n",
    "    'random_action': 'random_action.py',\n",
    "    'rock_or_paper': 'rock_or_paper.py',\n",
    "    'rock_or_scissors': 'rock_or_scissors.py',\n",
    "    'paper_or_scissors': 'paper_or_scissors.py', \n",
    "    'champion_of_rare': 'champion_of_rare.py',\n",
    "    'champion_of_freq': 'champion_of_freq.py',\n",
    "    'agent_line': 'agent_line.py'\n",
    "}\n",
    "\n",
    "standings = {}\n",
    "for agent_i in agents_dict:\n",
    "    standings[agent_i] = 0\n",
    "\n",
    "for left in agents_dict.keys():\n",
    "    for right in agents_dict.keys():\n",
    "        if left != right:\n",
    "            result = evaluate(\n",
    "                'rps',\n",
    "                [agents_dict[left], agents_dict[right]],\n",
    "                configuration={'episodeSteps': 100, \"tieRewardThreshold\": 1}\n",
    "            )\n",
    "            if result[0][0] > result[0][1]:\n",
    "                standings[left] += 3\n",
    "            elif result[0][0] == result[0][1]:\n",
    "                standings[left] += 1\n",
    "                standings[left] += 1\n",
    "            else:\n",
    "                standings[right] += 3\n",
    "\n",
    "print(standings)"
   ]
  },
  {
   "cell_type": "code",
   "execution_count": 197,
   "metadata": {},
   "outputs": [
    {
     "name": "stdout",
     "output_type": "stream",
     "text": [
      "_________________________\n",
      "rock_agent 32\n",
      "paper_agent 32\n",
      "scissors_agent 29\n",
      "copy_opponent 22\n",
      "late_champion 53\n",
      "random_action 30\n",
      "rock_or_paper 33\n",
      "rock_or_scissors 29\n",
      "paper_or_scissors 26\n",
      "champion_of_rare 15\n",
      "champion_of_freq 51\n",
      "agent_line 33\n",
      "_________________________\n",
      "Победитель турнира: late_champion\n"
     ]
    }
   ],
   "source": [
    "\n",
    "print('_________________________')\n",
    "\n",
    "max_points = 0\n",
    "for agent, points in standings.items():\n",
    "    print(agent, points)\n",
    "    if points > max_points:\n",
    "        max_points = points\n",
    "        champion = []\n",
    "        champion.append(agent)\n",
    "\n",
    "print('_________________________')\n",
    "\n",
    "if len(champion) == 1:\n",
    "    print('Победитель турнира:', champion[0])\n",
    "else:\n",
    "    print('Первое место делят агенты:', champion)"
   ]
  }
 ],
 "metadata": {
  "kernelspec": {
   "display_name": "Python 3.9.12 ('base')",
   "language": "python",
   "name": "python3"
  },
  "language_info": {
   "codemirror_mode": {
    "name": "ipython",
    "version": 3
   },
   "file_extension": ".py",
   "mimetype": "text/x-python",
   "name": "python",
   "nbconvert_exporter": "python",
   "pygments_lexer": "ipython3",
   "version": "3.9.12"
  },
  "orig_nbformat": 4,
  "vscode": {
   "interpreter": {
    "hash": "0893848790b5c7bcde6beab59e411cd3d28c08bf0ecce765ce2dae697e3d588e"
   }
  }
 },
 "nbformat": 4,
 "nbformat_minor": 2
}
